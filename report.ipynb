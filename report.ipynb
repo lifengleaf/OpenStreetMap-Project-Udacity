{
 "cells": [
  {
   "cell_type": "markdown",
   "metadata": {},
   "source": [
    "# Wrangle OpenStreetMap Data Using SQL"
   ]
  },
  {
   "cell_type": "markdown",
   "metadata": {},
   "source": [
    "*Feng Li*\n",
    "\n",
    "*Jun 23, 2016*"
   ]
  },
  {
   "cell_type": "markdown",
   "metadata": {},
   "source": [
    "## Part 1: Map Area "
   ]
  },
  {
   "cell_type": "markdown",
   "metadata": {},
   "source": [
    "**Phoenix, Arizona, US**: https://mapzen.com/data/metro-extracts/#phoenix-arizona"
   ]
  },
  {
   "cell_type": "code",
   "execution_count": 34,
   "metadata": {
    "collapsed": true
   },
   "outputs": [],
   "source": [
    "OSMFILE = 'phoenix_arizona.osm'"
   ]
  },
  {
   "cell_type": "code",
   "execution_count": 35,
   "metadata": {
    "collapsed": false
   },
   "outputs": [
    {
     "data": {
      "text/plain": [
       "defaultdict(int,\n",
       "            {'bounds': 1,\n",
       "             'member': 20372,\n",
       "             'nd': 3103883,\n",
       "             'node': 2572316,\n",
       "             'osm': 1,\n",
       "             'relation': 2074,\n",
       "             'tag': 1899440,\n",
       "             'way': 320238})"
      ]
     },
     "execution_count": 35,
     "metadata": {},
     "output_type": "execute_result"
    }
   ],
   "source": [
    "import mapparser\n",
    "mapparser.count_tags(OSMFILE)"
   ]
  },
  {
   "cell_type": "markdown",
   "metadata": {},
   "source": [
    "The osm file is 591.5 MB, with over 6,000,000 top level tags. The 1,899,440 tags in the file are name-value pair, to define multiple attributes of nodes or ways."
   ]
  },
  {
   "cell_type": "markdown",
   "metadata": {},
   "source": [
    "## Part 2: Problems Encountered in the Map "
   ]
  },
  {
   "cell_type": "markdown",
   "metadata": {},
   "source": [
    "### 1. Key Type"
   ]
  },
  {
   "cell_type": "markdown",
   "metadata": {},
   "source": [
    "Four tag key categories:\n",
    "1. \"lower\", for tags that contain only lowercase letters and are valid\n",
    "2. \"lower_colon\", for otherwise valid tags with a colon in their names\n",
    "3. \"problemchars\", for tags with problematic characters\n",
    "4. \"other\", for other tags that do not fall into the other three categories"
   ]
  },
  {
   "cell_type": "code",
   "execution_count": 36,
   "metadata": {
    "collapsed": false
   },
   "outputs": [
    {
     "name": "stdout",
     "output_type": "stream",
     "text": [
      "{'k': 'service area', 'v': '20 miles'}\n",
      "{'k': 'service area', 'v': '20 miles'}\n"
     ]
    },
    {
     "data": {
      "text/plain": [
       "{'lower': 1079975, 'lower_colon': 791985, 'other': 27478, 'problemchars': 2}"
      ]
     },
     "execution_count": 36,
     "metadata": {},
     "output_type": "execute_result"
    }
   ],
   "source": [
    "import tagtype\n",
    "tagtype.process_map(OSMFILE)"
   ]
  },
  {
   "cell_type": "markdown",
   "metadata": {},
   "source": [
    "Two tags contain problematic characters."
   ]
  },
  {
   "cell_type": "markdown",
   "metadata": {},
   "source": [
    "### 2. Users"
   ]
  },
  {
   "cell_type": "code",
   "execution_count": 41,
   "metadata": {
    "collapsed": false
   },
   "outputs": [
    {
     "data": {
      "text/plain": [
       "1072"
      ]
     },
     "execution_count": 41,
     "metadata": {},
     "output_type": "execute_result"
    }
   ],
   "source": [
    "import users\n",
    "all_users = users.get_all_users(OSMFILE)\n",
    "len(all_users)"
   ]
  },
  {
   "cell_type": "code",
   "execution_count": 42,
   "metadata": {
    "collapsed": false
   },
   "outputs": [
    {
     "data": {
      "text/plain": [
       "[('292665', 1067109),\n",
       " ('1330847', 318301),\n",
       " ('157922', 193539),\n",
       " ('183021', 114786),\n",
       " ('4111', 98347),\n",
       " ('1507362', 72021),\n",
       " ('147510', 64955),\n",
       " ('100209', 62625),\n",
       " ('465150', 46665),\n",
       " ('32890', 37644)]"
      ]
     },
     "execution_count": 42,
     "metadata": {},
     "output_type": "execute_result"
    }
   ],
   "source": [
    "# sort the all_users reversely by contribution counts\n",
    "import operator\n",
    "sorted_users = sorted(all_users.items(), key=operator.itemgetter(1), reverse=True)\n",
    "sorted_users[:10]"
   ]
  },
  {
   "cell_type": "markdown",
   "metadata": {},
   "source": [
    "The leading user has contributed more than 1 million entries, far ahead of the second user."
   ]
  },
  {
   "cell_type": "markdown",
   "metadata": {},
   "source": [
    "### 3. Street Type "
   ]
  },
  {
   "cell_type": "markdown",
   "metadata": {},
   "source": [
    "Since data is crowd sourced, there is no standard format for street names. With an expected street type list [\"Street\", \"Avenue\", \"Boulevard\", \"Drive\", \"Court\", \"Place\", \"Square\", \"Lane\", \"Road\", \"Way\", \"Trail\", \"Parkway\", \"Commons\", \"Circle\", \"Terrace\", \"Highway\"], we get the following dictionary of streets with unexpected types. We can see the majority of these streets ending with numbers or abbreviations like 'Rd' and 'Ave'."
   ]
  },
  {
   "cell_type": "code",
   "execution_count": 44,
   "metadata": {
    "collapsed": false
   },
   "outputs": [
    {
     "data": {
      "text/plain": [
       "defaultdict(set,\n",
       "            {'101': {'E. Warner Rd Suite 101', 'East Baseline Road Suite 101'},\n",
       "             '102': {'North Power Road #102'},\n",
       "             '103': {'E Baseline Rd #103'},\n",
       "             '104-401': {'S. Superstition Mountain Road St 104-401'},\n",
       "             '105': {'North 90th Street #105'},\n",
       "             '108': {'W Elliot Rd #108'},\n",
       "             '110': {'East Doubletree Ranch Road #110',\n",
       "              'N Centennial Way, Suite 110'},\n",
       "             '114-225': {'South Higley Road, Suite 114-225'},\n",
       "             '117': {'N 51st Ave #117'},\n",
       "             '119': {'N. Gilbert Road, #119'},\n",
       "             '121': {'3514 N. Power Road, Ste. 121'},\n",
       "             '122': {'E Baseline Rd Ste 122', 'S Alma School Rd #122'},\n",
       "             '130': {'E. Marilyn Rd., Bldg. 4, Suite 130',\n",
       "              'East Marilyn Road Building 4 Suite 130'},\n",
       "             '1400-1532': {'N. Central Avenue, Suite 1400-1532'},\n",
       "             '200': {'N Arboleda, Suite 200',\n",
       "              'W Union Hills Dr., Building D, Suite 200'},\n",
       "             '201': {'North Arboleda, Suite 201'},\n",
       "             '202': {'N Dysart Rd #202'},\n",
       "             '21': {'N 32nd St Lot 21'},\n",
       "             '210': {'N. Hayden Road, Suite 210'},\n",
       "             '221': {'South Stapley Drive Suite 221'},\n",
       "             '238': {'West Highway 238'},\n",
       "             '270': {'East Washington Street Suite 270'},\n",
       "             '287': {'East Highway 287'},\n",
       "             '3': {'E Florence Blvd #3', 'E Thomas Rd #3'},\n",
       "             '300': {'Doubletree Ranch Rd. Suite 300'},\n",
       "             '3031': {'Tatum Blvd. Suite 3031'},\n",
       "             '350': {'N. 85th Street #350'},\n",
       "             '441': {'N. 19th Avenue, Suite 158, #441'},\n",
       "             '445': {'N. 19th Avenue, Suite 158, #445'},\n",
       "             '605': {'West Happy Valley Road, Suite #141 - 605'},\n",
       "             '68': {'BIA Route 68'},\n",
       "             '85': {'MC 85', 'South Highway 85'},\n",
       "             '85013': {'85013'},\n",
       "             '900': {'Rio Salado Parkway #900'},\n",
       "             'A-110': {'North 28th Drive, Suite A-110'},\n",
       "             'A109-187': {'East Baseline Road A109-187'},\n",
       "             'Ave': {'E Garnet Ave',\n",
       "              'E Terrace Ave',\n",
       "              'North Arizona Ave',\n",
       "              'Noth Central Ave',\n",
       "              'S Buena Vista Ave',\n",
       "              'S Central Ave',\n",
       "              'S Farmer Ave',\n",
       "              'South Forest Ave',\n",
       "              'South Longmore Ave',\n",
       "              'Terrace Ave',\n",
       "              'W Grand Ave',\n",
       "              'W. Vineyard Ave',\n",
       "              'West Grove Ave'},\n",
       "             'Ave.': {'N. 19th Ave.'},\n",
       "             'B119': {'East Pinnacle Peak Road #B119'},\n",
       "             'Bend': {'East Indian Bend'},\n",
       "             'Blvd': {'1900 West Chandler Blvd', 'E Chandler Blvd'},\n",
       "             'Blvd.': {'Apache Blvd.', 'Florence Blvd.'},\n",
       "             'Boulavard': {'North Avondale Boulavard'},\n",
       "             'Camelback': {'W. Camelback'},\n",
       "             'Center': {'West Arrowhead Towne Center'},\n",
       "             'Cheshire': {'South Cheshire'},\n",
       "             'Chestnut': {'South Chestnut'},\n",
       "             'Commercio': {'East Via De Commercio'},\n",
       "             'Crossing': {'North Cotton Crossing'},\n",
       "             'Ctr': {'W Arrowhead Towne Ctr'},\n",
       "             'D': {'17054 W Post D'},\n",
       "             'D107-108': {'North 7th Street #D107-108'},\n",
       "             'Date': {'North Date'},\n",
       "             'Davis': {'S Davis'},\n",
       "             'Dobson': {'South Dobson'},\n",
       "             'Dr': {'W Union Hills Dr'},\n",
       "             'East': {'North Metro Park East'},\n",
       "             'Emerson': {'South Emerson'},\n",
       "             'Estrella': {'East Via Estrella'},\n",
       "             'Fountains': {'East Avenue of the Fountains'},\n",
       "             'Freeway': {'West Papago Freeway'},\n",
       "             'Glen': {'North 25th Glen'},\n",
       "             'Grand': {'North Grand'},\n",
       "             'Horne': {'North Horne'},\n",
       "             'Ki': {'W. Gu u Ki'},\n",
       "             'Lewis': {'North Lewis', 'South Lewis'},\n",
       "             'Loop': {'North Greenway Hayden Loop'},\n",
       "             'Macdonald': {'South Macdonald'},\n",
       "             'Mall': {'East Lemon Mall',\n",
       "              'East Orange Mall',\n",
       "              'East Tyler Mall',\n",
       "              'South Cady Mall',\n",
       "              'South Forest Mall'},\n",
       "             'Markdale': {'North Markdale'},\n",
       "             'North': {'East Paradise Village Parkway North'},\n",
       "             'Oro': {'West Camino de Oro'},\n",
       "             'Park': {'East Gammage Park'},\n",
       "             'Pasadena': {'North Pasadena'},\n",
       "             'Pima': {'North Pima'},\n",
       "             'Pkwy': {'East Rio Salado Pkwy'},\n",
       "             'Pl': {'E Havasu Pl'},\n",
       "             'Plaza': {'North Civic Center Plaza'},\n",
       "             'Point': {'North Sunrise Point'},\n",
       "             'RD': {'E. Brown RD'},\n",
       "             'Rd': {'E Baseline Rd',\n",
       "              'E Warner Rd',\n",
       "              'East Williamsfield Rd',\n",
       "              'N Hayden Rd',\n",
       "              'N Scottsdale Rd',\n",
       "              'S Watson Rd',\n",
       "              'W Camelback Rd',\n",
       "              'West Happy Valley Rd'},\n",
       "             'Rd.': {'5810 Alameda Rd.',\n",
       "              'N. Cave Creek Rd.',\n",
       "              'West Happy Vally Rd.'},\n",
       "             'Rosa': {'West Calle Rosa'},\n",
       "             'Sol': {'North Camino del Sol', 'West Camino del Sol'},\n",
       "             'South': {'East Sky Harbor Circle South',\n",
       "              'North Paradise Village Parkway South'},\n",
       "             'St': {'E. Frontier St', 'W 18th St', 'W McNeil St'},\n",
       "             'Start': {'Start'},\n",
       "             'Sur': {'North Via Paseo del Sur'},\n",
       "             'Taliesin': {'North Taliesin'},\n",
       "             'Ventura': {'East Via de Ventura'},\n",
       "             'Watermelon': {'Watermelon'},\n",
       "             'West': {'North Paradise Village Parkway West'},\n",
       "             'Westwood': {'South Westwood'},\n",
       "             'Windsor': {'Windsor'},\n",
       "             'street': {'South Wall street'}})"
      ]
     },
     "execution_count": 44,
     "metadata": {},
     "output_type": "execute_result"
    }
   ],
   "source": [
    "import audit\n",
    "audit.audit_street(OSMFILE)"
   ]
  },
  {
   "cell_type": "markdown",
   "metadata": {},
   "source": [
    "For Overabbreviated street names, we could use a mapping dictionay to update with full names."
   ]
  },
  {
   "cell_type": "code",
   "execution_count": null,
   "metadata": {
    "collapsed": true
   },
   "outputs": [],
   "source": [
    "mapping = { \"St\": \"Street\",\n",
    "            \"St.\": \"Street\",\n",
    "            \"street\": \"Street\",\n",
    "            \"Ave\": \"Avenue\",\n",
    "            \"Ave.\": \"Avenue\",\n",
    "            \"Blvd\": \"Boulevard\",\n",
    "            \"Blvd.\": \"Boulevard\",\n",
    "            \"Boulavard\": \"Boulevard\",\n",
    "            \"Rd\": \"Road\",\n",
    "            \"Rd.\": \"Road\",\n",
    "            \"RD\": \"Road\",\n",
    "            \"Pl\": \"Place\",\n",
    "            \"Pl.\": \"Place\",\n",
    "            \"PKWY\": \"Parkway\",\n",
    "            \"Pkwy\": \"Parkway\",\n",
    "            \"Ln\": \"Lane\",\n",
    "            \"Ln.\": \"Lane\",\n",
    "            \"Dr\": \"Drive\",\n",
    "            \"Dr.\": \"Drive\"\n",
    "            }"
   ]
  },
  {
   "cell_type": "code",
   "execution_count": 48,
   "metadata": {
    "collapsed": false
   },
   "outputs": [
    {
     "name": "stdout",
     "output_type": "stream",
     "text": [
      "West Happy Valley Rd => West Happy Valley Road\n",
      "E Warner Rd => E Warner Road\n",
      "East Williamsfield Rd => East Williamsfield Road\n",
      "N Hayden Rd => N Hayden Road\n",
      "S Watson Rd => S Watson Road\n",
      "W Camelback Rd => W Camelback Road\n",
      "N Scottsdale Rd => N Scottsdale Road\n",
      "E Baseline Rd => E Baseline Road\n",
      "E. Brown RD => E. Brown Road\n",
      "East Rio Salado Pkwy => East Rio Salado Parkway\n",
      "South Wall street => South Wall Street\n",
      "5810 Alameda Rd. => 5810 Alameda Road\n",
      "N. Cave Creek Rd. => N. Cave Creek Road\n",
      "West Happy Vally Rd. => West Happy Vally Road\n",
      "E Havasu Pl => E Havasu Place\n",
      "N. 19th Ave. => N. 19th Avenue\n",
      "Florence Blvd. => Florence Boulevard\n",
      "Apache Blvd. => Apache Boulevard\n",
      "W 18th St => W 18th Street\n",
      "W McNeil St => W McNeil Street\n",
      "E. Frontier St => E. Frontier Street\n",
      "W Grand Ave => W Grand Avenue\n",
      "Noth Central Ave => Noth Central Avenue\n",
      "E Terrace Ave => E Terrace Avenue\n",
      "North Arizona Ave => North Arizona Avenue\n",
      "E Garnet Ave => E Garnet Avenue\n",
      "S Buena Vista Ave => S Buena Vista Avenue\n",
      "S Central Ave => S Central Avenue\n",
      "South Forest Ave => South Forest Avenue\n",
      "W. Vineyard Ave => W. Vineyard Avenue\n",
      "S Farmer Ave => S Farmer Avenue\n",
      "Terrace Ave => Terrace Avenue\n",
      "South Longmore Ave => South Longmore Avenue\n",
      "West Grove Ave => West Grove Avenue\n",
      "W Union Hills Dr => W Union Hills Drive\n",
      "North Avondale Boulavard => North Avondale Boulevard\n",
      "E Chandler Blvd => E Chandler Boulevard\n",
      "1900 West Chandler Blvd => 1900 West Chandler Boulevard\n"
     ]
    }
   ],
   "source": [
    "audit.fix_street(OSMFILE)"
   ]
  },
  {
   "cell_type": "markdown",
   "metadata": {},
   "source": [
    "### 4. City"
   ]
  },
  {
   "cell_type": "code",
   "execution_count": 46,
   "metadata": {
    "collapsed": false
   },
   "outputs": [
    {
     "data": {
      "text/plain": [
       "70"
      ]
     },
     "execution_count": 46,
     "metadata": {},
     "output_type": "execute_result"
    }
   ],
   "source": [
    "other_city = audit.audit_city(OSMFILE)\n",
    "len(other_city)"
   ]
  },
  {
   "cell_type": "code",
   "execution_count": 47,
   "metadata": {
    "collapsed": false
   },
   "outputs": [
    {
     "name": "stdout",
     "output_type": "stream",
     "text": [
      "set(['El Mirage', 'Gila Bend', 'Coolidge', 'Maricopa', 'Phenix', 'Anthem', 'Fort McDowell', 'Golbert', 'Carefree', 'Sacaton', 'Glendale', 'Morristown', 'Glemdale', '2036 N. Gilbert Rd.', 'Surprise', 'Gilbert', 'Sun City Wesr', 'Goodyear', 'Chandler', 'Msa', 'Higley', 'Rio Verde', 'Phoenx', 'tEMPE', 'Tempe', 'Mesa, AZ', 'Luke AFB, Waddell', 'Laveen Village', 'Peoria', 'Apache Junction', 'Scottsdale', 'Sun City West', 'Queen Creek', 'Tonopah', 'Sun Lakes', 'Arlington', 'Vulture City', 'Mesa', 'Maricopaaricopa', 'chandler', 'Fountain Hills', 'Luke AFB', 'Laveen', 'tempe', '25', 'Mobile', 'peoria', 'Wickenburg', 'Litchfield Park', 'scottsdale', 'Paradise Valley', 'Gold Canyon', 'Paradise Valley, AZ', 'casa Grande', 'mesa', 'Tollenson', 'Avondale', 'Sun City', 'Tolleson', 'Cave Creek', 'San Tan Valley', 'sun City West', 'New River', 'Tohono Oodham', 'Buckeye', 'Casa Grande', 'Florence', 'CHANDLER', 'Wittmann', 'Queen Valley'])\n"
     ]
    }
   ],
   "source": [
    "print other_city"
   ]
  },
  {
   "cell_type": "markdown",
   "metadata": {},
   "source": [
    "Apart from Phoenix, there are 70 other recorded cities in the data. But we can see serious inconsistency among them. \n",
    "\n",
    "Phoenix consists of many big boroughs, and in some tags city name is replaced with neighbourhood names and borough names. For example,'Laveen', or 'Laveen Village', is an urban village within the city of Phoenix (Source: Wikipedia). And some names are misspelled. 'Tollenson' is actually 'Tolleson', 'Phenix' and 'Phoenx' are actually 'Phoenix'. There is even a mistake putting street '2036 N. Gilbert Rd.' in the city tag."
   ]
  },
  {
   "cell_type": "markdown",
   "metadata": {},
   "source": [
    "### 5. Postcode "
   ]
  },
  {
   "cell_type": "markdown",
   "metadata": {},
   "source": [
    "The post code data for reference is downloaded from: http://www.unitedstateszipcodes.org/zip-code-database/. As it suggests, the post code for Phoenix city is from 85001 to 85099."
   ]
  },
  {
   "cell_type": "code",
   "execution_count": 49,
   "metadata": {
    "collapsed": false
   },
   "outputs": [
    {
     "name": "stdout",
     "output_type": "stream",
     "text": [
      "There are 1085 long post codes.\n",
      "172\n",
      "['8', 'AZ 85310', 'AZ 85249', 'AZ 85008', '85395', 'AZ 85242', '85310', 'AZ 85206', '85331', '86122']\n"
     ]
    }
   ],
   "source": [
    "other_postcode = audit.audit_postcode(OSMFILE)\n",
    "print len(other_postcode)\n",
    "print other_postcode[20:30]"
   ]
  },
  {
   "cell_type": "markdown",
   "metadata": {},
   "source": [
    "There are 1085 long post codes which contain more than the main 5-digit codes. After removing the trailing 4-digit area codes, we get 172 unique post codes which are not in the reference database, and some of them begin with state post code 'AZ'."
   ]
  },
  {
   "cell_type": "markdown",
   "metadata": {},
   "source": [
    "### 6. Phone Number "
   ]
  },
  {
   "cell_type": "code",
   "execution_count": 50,
   "metadata": {
    "collapsed": false
   },
   "outputs": [
    {
     "name": "stdout",
     "output_type": "stream",
     "text": [
      "['(480) 897-8080', '+623-930-2188', '+623-842-8616', '+602-973-4000', '+602-841-7445', '+602-841-0704', '602-449-3300', '+602-336-2000', '+602-242-0281', '+602-246-0699']\n"
     ]
    }
   ],
   "source": [
    "all_phone = audit.audit_phone(OSMFILE)\n",
    "print all_phone[:10]"
   ]
  },
  {
   "cell_type": "markdown",
   "metadata": {},
   "source": [
    "Different formats of phone number are found in the data, among which are (XXX) XXX-XXXX, XXX-XXX-XXXX, +XXX-XXX-XXXX,  1XXXXXXXXXX, +1 XXX XXX XXXX, +1 XXX-XXX-XXXX, +1 XXX.XXX.XXXX, +1 (XXX) XXX-XXXX and even 'Phone number (XXX) XXX-XXXX' or a list."
   ]
  },
  {
   "cell_type": "markdown",
   "metadata": {},
   "source": [
    "## Part 3: Preparing Data for Database"
   ]
  },
  {
   "cell_type": "markdown",
   "metadata": {},
   "source": [
    "To prepare the data for SQL database, I'll parse the elements in the OSM XML file, transforming them from document format to tabular format using **data.py**. The results are 5 .csv files:\n",
    "+ nodes: top level node attributes. \n",
    "\n",
    "    **id  lat  lon  user  uid  version  changeset  timestamp**\n",
    "    \n",
    "\n",
    "+ node_tags: secondary tag attributes of node. \n",
    "\n",
    "    **id  key  value  type**\n",
    "    \n",
    "\n",
    "+ ways: top level way attributes. \n",
    "\n",
    "    **id  user  uid  version  changeset  timestamp**\n",
    "    \n",
    "\n",
    "+ way_tags: secondary tag attributes of way. \n",
    "\n",
    "    **id  key  value  type**\n",
    "    \n",
    "\n",
    "+ way_nodes: nd child tag attributes of way.\n",
    "\n",
    "    **id  node_id  position**\n",
    "\n",
    "I create a database 'osm' in MySQL Workbench, and then import these csv files to this database. This is one of the SQL queries used to import data."
   ]
  },
  {
   "cell_type": "code",
   "execution_count": null,
   "metadata": {
    "collapsed": false
   },
   "outputs": [],
   "source": [
    "query ='''\n",
    "LOAD DATA LOCAL INFILE 'C:\\\\Users\\\\lifeng\\\\Desktop\\\\osm\\\\ways.csv' \n",
    "REPLACE INTO TABLE `osm`.`ways` \n",
    "FIELDS TERMINATED BY ',' \n",
    "OPTIONALLY ENCLOSED BY '\"' \n",
    "ESCAPED BY '\"' \n",
    "LINES TERMINATED BY '\\r\\n' \n",
    "IGNORE 1 LINES (`id`, `user`, `uid`, `version`, `changeset`, `timestamp`);\n",
    "'''"
   ]
  },
  {
   "cell_type": "markdown",
   "metadata": {},
   "source": [
    "## Part 4: Data Overview"
   ]
  },
  {
   "cell_type": "markdown",
   "metadata": {},
   "source": [
    "Before exploring the data, let's learn some basic statistics about the data."
   ]
  },
  {
   "cell_type": "markdown",
   "metadata": {},
   "source": [
    "### Full Size "
   ]
  },
  {
   "cell_type": "markdown",
   "metadata": {},
   "source": [
    "**nodes.csv**: 214.236 KB\n",
    "\n",
    "**nodes_tags.csv**: 10,506 KB\n",
    "\n",
    "**ways.csv**: 19,075 KB\n",
    "\n",
    "**ways_nodes.csv**: 75.096 KB\n",
    "\n",
    "**ways_tags.csv**: 55,472 KB"
   ]
  },
  {
   "cell_type": "markdown",
   "metadata": {},
   "source": [
    "### Number Of Nodes"
   ]
  },
  {
   "cell_type": "code",
   "execution_count": null,
   "metadata": {
    "collapsed": false
   },
   "outputs": [],
   "source": [
    "query ='''\n",
    "SELECT COUNT(*) FROM nodes;\n",
    "'''"
   ]
  },
  {
   "cell_type": "markdown",
   "metadata": {},
   "source": [
    "There are 2,572,316 nodes in the data."
   ]
  },
  {
   "cell_type": "markdown",
   "metadata": {},
   "source": [
    "### Number Of Ways"
   ]
  },
  {
   "cell_type": "code",
   "execution_count": null,
   "metadata": {
    "collapsed": true
   },
   "outputs": [],
   "source": [
    "query ='''\n",
    "SELECT COUNT(*) FROM ways;\n",
    "'''"
   ]
  },
  {
   "cell_type": "markdown",
   "metadata": {},
   "source": [
    "There are 320,238 ways."
   ]
  },
  {
   "cell_type": "markdown",
   "metadata": {},
   "source": [
    "### Number Of Unique Users"
   ]
  },
  {
   "cell_type": "code",
   "execution_count": null,
   "metadata": {
    "collapsed": true
   },
   "outputs": [],
   "source": [
    "query ='''\n",
    "CREATE TABLE userid\n",
    "SELECT user.uid\n",
    "FROM \n",
    "  (SELECT uid FROM nodes\n",
    "  UNION ALL \n",
    "  SELECT uid FROM ways) user\n",
    "  \n",
    "  \n",
    "SELECT COUNT(DISTINCT uid)\n",
    "FROM userid\n",
    "'''"
   ]
  },
  {
   "cell_type": "markdown",
   "metadata": {},
   "source": [
    "Due to the low speed of MySQL Workbench to execute too complex queries with large table, first I create a table userid to store all the user IDs. I use UNION ALL to select all uid from table nodes and table ways, and get 2,892,554 records.\n",
    "\n",
    "Then I count the distinct uid, which is 1062. This number is less than the result we get from users.get_all_users(OSMFILE), which is 1072. I think this is the result of ignoring some problematic entries during the data wrangling."
   ]
  },
  {
   "cell_type": "markdown",
   "metadata": {},
   "source": [
    "### Cities Other Than Phoenix"
   ]
  },
  {
   "cell_type": "code",
   "execution_count": null,
   "metadata": {
    "collapsed": true
   },
   "outputs": [],
   "source": [
    "query = '''\n",
    "SELECT value, COUNT(*) AS num\n",
    "FROM \n",
    "    (SELECT *\n",
    "    FROM nodes_tags\n",
    "    WHERE nodes_tags.key = 'city') city\n",
    "GROUP BY city.value\n",
    "ORDER BY num DESC;\n",
    "'''"
   ]
  },
  {
   "cell_type": "markdown",
   "metadata": {},
   "source": [
    "Apart from 4433 recods with city name being 'Phoenix' , there are 1350 'Glendale', 231 'Mesa', 202 'Peoria', 165 'Scottsdale', etc."
   ]
  },
  {
   "cell_type": "markdown",
   "metadata": {},
   "source": [
    "### Number of Schools"
   ]
  },
  {
   "cell_type": "code",
   "execution_count": null,
   "metadata": {
    "collapsed": true
   },
   "outputs": [],
   "source": [
    "query = '''\n",
    "SELECT COUNT(*) AS num\n",
    "FROM nodes_tags\n",
    "WHERE nodes_tags.value = 'school';\n",
    "'''"
   ]
  },
  {
   "cell_type": "markdown",
   "metadata": {},
   "source": [
    "There are 483 schools in this district."
   ]
  },
  {
   "cell_type": "markdown",
   "metadata": {},
   "source": [
    "## Part 5: In-depth Data Exploration"
   ]
  },
  {
   "cell_type": "markdown",
   "metadata": {},
   "source": [
    "### Top 10 Contributing Users "
   ]
  },
  {
   "cell_type": "code",
   "execution_count": null,
   "metadata": {
    "collapsed": true
   },
   "outputs": [],
   "source": [
    "query ='''\n",
    "SELECT uid, COUNT(uid) AS num\n",
    "FROM userid\n",
    "GROUP BY uid\n",
    "ORDER BY num DESC\n",
    "LIMIT 10;\n",
    "'''"
   ]
  },
  {
   "cell_type": "markdown",
   "metadata": {},
   "source": [
    "Comparing with the result from users.get_all_users(OSMFILE), the top 10 user IDs are identical, but with some lower counts. Again I think it's the result of data cleaning."
   ]
  },
  {
   "cell_type": "markdown",
   "metadata": {},
   "source": [
    "### Number of Users With Only 1 Contribution"
   ]
  },
  {
   "cell_type": "code",
   "execution_count": null,
   "metadata": {
    "collapsed": true
   },
   "outputs": [],
   "source": [
    "query ='''\n",
    "SELECT COUNT(*) \n",
    "FROM\n",
    "    (SELECT uid, COUNT(*) AS num\n",
    "     FROM userid\n",
    "     GROUP BY uid\n",
    "     HAVING num=1) user;\n",
    "\n",
    "'''"
   ]
  },
  {
   "cell_type": "markdown",
   "metadata": {},
   "source": [
    "We get 190 users who contribute only 1 entry, among the total 1062 uses."
   ]
  },
  {
   "cell_type": "markdown",
   "metadata": {
    "collapsed": true
   },
   "source": [
    "###  Amenities By Count"
   ]
  },
  {
   "cell_type": "code",
   "execution_count": null,
   "metadata": {
    "collapsed": true
   },
   "outputs": [],
   "source": [
    "query ='''\n",
    "SELECT value, COUNT(*) AS num\n",
    "FROM nodes_tags\n",
    "WHERE nodes_tags.key = 'amenity'\n",
    "GROUP BY value\n",
    "ORDER BY num DESC;\n",
    "'''"
   ]
  },
  {
   "cell_type": "markdown",
   "metadata": {},
   "source": [
    "We get the aminities with more than 100 occurances in descending order are: fast_food, fuel, restaurant, place_of_worship, school, bench, swimming_pool, bank, pharmacy, fountain, toilets, cafe, trailer_park."
   ]
  },
  {
   "cell_type": "markdown",
   "metadata": {},
   "source": [
    "### Most Popular Cuisines "
   ]
  },
  {
   "cell_type": "code",
   "execution_count": null,
   "metadata": {
    "collapsed": true
   },
   "outputs": [],
   "source": [
    "query = '''\n",
    "SELECT value, COUNT(*) AS num\n",
    "FROM nodes_tags \n",
    "WHERE nodes_tags.key = 'cuisine'\n",
    "GROUP BY value\n",
    "ORDER BY num DESC;\n",
    "'''"
   ]
  },
  {
   "cell_type": "markdown",
   "metadata": {
    "collapsed": true
   },
   "source": [
    "The most popular cuisines in descending order are: burger, sandwich, pizza, coffee_shop, mexican, american, italian, chinese, chicken, ice_cream, etc. The occurance of burger (188) is more than double than the second cuisines sandwich and pizza (83)."
   ]
  },
  {
   "cell_type": "markdown",
   "metadata": {},
   "source": [
    "### Religion Practice"
   ]
  },
  {
   "cell_type": "code",
   "execution_count": null,
   "metadata": {
    "collapsed": true
   },
   "outputs": [],
   "source": [
    "query = '''\n",
    "SELECT nodes_tags.value, COUNT(*) AS num\n",
    "FROM nodes_tags \n",
    "    INNER JOIN \n",
    "        (SELECT DISTINCT(id) \n",
    "        FROM nodes_tags \n",
    "        WHERE value='place_of_worship') place\n",
    "    ON nodes_tags.id=place.id\n",
    "WHERE nodes_tags.key='religion'\n",
    "GROUP BY nodes_tags.value\n",
    "ORDER BY num DESC;\n",
    "'''"
   ]
  },
  {
   "cell_type": "markdown",
   "metadata": {},
   "source": [
    "The difference here is huge, with 564 records of christian, 3 jewish, 2 bahai, 1 buddhist, 1 eckankar, 1 muslim."
   ]
  },
  {
   "cell_type": "markdown",
   "metadata": {},
   "source": [
    "### Types Of Highway"
   ]
  },
  {
   "cell_type": "code",
   "execution_count": null,
   "metadata": {
    "collapsed": true
   },
   "outputs": [],
   "source": [
    "query = '''\n",
    "SELECT value, COUNT(*) as num\n",
    "FROM ways_tags\n",
    "WHERE ways_tags.key = 'highway'\n",
    "GROUP BY value\n",
    "ORDER BY num DESC;\n",
    "'''"
   ]
  },
  {
   "cell_type": "markdown",
   "metadata": {},
   "source": [
    "Residential tops the highway type list, followed by service, footway, secondary, tertiary, unclassified, track, primary, motorway_link, motorway, construction, cycleway, etc."
   ]
  },
  {
   "cell_type": "markdown",
   "metadata": {},
   "source": [
    "### Node Count Of Ways"
   ]
  },
  {
   "cell_type": "code",
   "execution_count": null,
   "metadata": {
    "collapsed": true
   },
   "outputs": [],
   "source": [
    "query = '''\n",
    "SELECT COUNT(*)\n",
    "FROM \n",
    "    (SELECT DISTINCT id, COUNT(*) as num\n",
    "    FROM ways_nodes\n",
    "    GROUP BY id\n",
    "    HAVING num>1000) wn;\n",
    "'''"
   ]
  },
  {
   "cell_type": "markdown",
   "metadata": {},
   "source": [
    "There are 32 ways which have more than 1000 nodes, 145 ways with more than 500 nodes."
   ]
  },
  {
   "cell_type": "markdown",
   "metadata": {},
   "source": [
    "### Zip Code Of Ways"
   ]
  },
  {
   "cell_type": "code",
   "execution_count": null,
   "metadata": {
    "collapsed": true
   },
   "outputs": [],
   "source": [
    "query = '''\n",
    "SELECT DISTINCT value FROM ways_tags\n",
    "WHERE ways_tags.key LIKE 'zip%';\n",
    "'''"
   ]
  },
  {
   "cell_type": "markdown",
   "metadata": {},
   "source": [
    "Zip codes are stored in ways_tags table with column name 'zip_left' 'zip_right' 'zip_left1' 'zip_right2', so I use LIKE 'zip%' pattern. We know that zip code in Phoenix is between 85001 and 85099. But the result we get contains many zipcodes starting with '852' or '853'."
   ]
  },
  {
   "cell_type": "markdown",
   "metadata": {},
   "source": [
    "### Data Source"
   ]
  },
  {
   "cell_type": "code",
   "execution_count": null,
   "metadata": {
    "collapsed": true
   },
   "outputs": [],
   "source": [
    "query = '''\n",
    "CREATE TABLE source\n",
    "SELECT value, COUNT(*) AS num\n",
    "FROM\n",
    "((SELECT value FROM nodes_tags\n",
    "WHERE nodes_tags.key = 'source'\n",
    "GROUP BY value)\n",
    "UNION ALL\n",
    "(SELECT value FROM ways_tags\n",
    "WHERE ways_tags.key = 'source'\n",
    "GROUP BY value)) source\n",
    "GROUP BY source.value\n",
    "'''"
   ]
  },
  {
   "cell_type": "markdown",
   "metadata": {},
   "source": [
    "First I create a table source to store all the source values from nodes_tags table and ways_tags table."
   ]
  },
  {
   "cell_type": "code",
   "execution_count": null,
   "metadata": {
    "collapsed": true
   },
   "outputs": [],
   "source": [
    "query = '''\n",
    "SELECT SUM(num) AS Bing\n",
    "FROM\n",
    "    (SELECT * FROM source\n",
    "    WHERE value LIKE 'Bing%' OR value LIKE '%bing%') b\n",
    "'''"
   ]
  },
  {
   "cell_type": "markdown",
   "metadata": {},
   "source": [
    "There are 46 records from Wikipedia, 25 from Bing, 21 from Tiger, 17 from GPS,12 from Google, 10 from Yahoo."
   ]
  },
  {
   "cell_type": "markdown",
   "metadata": {},
   "source": [
    "## Part 6: Additional Ideas"
   ]
  },
  {
   "cell_type": "markdown",
   "metadata": {},
   "source": [
    "**Ideas For Improvements**\n",
    "\n",
    "In this report, data cleaning is far from enough. For example, the zip code field contains lists, and city field has 36 values other than the expected 'Phoenix'. The audit and fix functions are not applied when importing the data into csv files.\n",
    "\n",
    "And there also should be official standards about the format and style of the input entries. For example, as for the city and zip code, user can only select from restricted options."
   ]
  },
  {
   "cell_type": "markdown",
   "metadata": {},
   "source": [
    "**Application of OSM**\n",
    "\n",
    "If the user generated data have standards to follow and auditing tools to improve accuracy and consistancy, the OSM data could be put into broad application. Apart from navigation, people can use it to help with analysis and decision making. For example, businessmen can pick a location for starting a cafe where there are not enough cafes.\n",
    "\n",
    "To encourage users to contribute data, easy-to-use web widgets could be created. For example, when adding a location on Facebook, users can be prompt to add some more information about it."
   ]
  }
 ],
 "metadata": {
  "kernelspec": {
   "display_name": "Python 2",
   "language": "python",
   "name": "python2"
  },
  "language_info": {
   "codemirror_mode": {
    "name": "ipython",
    "version": 2
   },
   "file_extension": ".py",
   "mimetype": "text/x-python",
   "name": "python",
   "nbconvert_exporter": "python",
   "pygments_lexer": "ipython2",
   "version": "2.7.11"
  }
 },
 "nbformat": 4,
 "nbformat_minor": 0
}
